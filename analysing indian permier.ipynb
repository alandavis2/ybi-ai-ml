{
 "cells": [
  {
   "cell_type": "code",
   "execution_count": null,
   "metadata": {},
   "outputs": [],
   "source": [
    "import pandas as pd\n",
    "import matplotlib.pyplot as plt\n",
    "import seaborn as sns\n",
    "\n",
    "# Sample IPL Data (You'll need a more comprehensive dataset for real analysis)\n",
    "data = {\n",
    "    'season': [2023, 2023, 2023, 2022, 2022, 2022, 2021, 2021, 2021],\n",
    "    'team1': ['MI', 'CSK', 'RCB', 'MI', 'KKR', 'CSK', 'DC', 'RCB', 'MI'],\n",
    "    'team2': ['CSK', 'RCB', 'MI', 'KKR', 'CSK', 'MI', 'MI', 'CSK', 'KKR'],\n",
    "    'winner': ['MI', 'CSK', 'MI', 'MI', 'KKR', 'CSK', 'DC', 'RCB', 'MI'],\n",
    "    'city': ['Mumbai', 'Chennai', 'Bangalore', 'Kolkata', 'Chennai', 'Mumbai', 'Delhi', 'Bangalore', 'Kolkata'],\n",
    "    'player_of_match': ['Rohit Sharma', 'MS Dhoni', 'Virat Kohli', 'Jasprit Bumrah', 'Andre Russell', 'Ravindra Jadeja', 'Rishabh Pant', 'AB de Villiers', 'Kieron Pollard'],\n",
    "    'runs_scored': [160, 180, 175, 150, 200, 190, 170, 185, 165],\n",
    "}\n",
    "ipl_df = pd.DataFrame(data)\n",
    "\n",
    "# 1. Basic Data Exploration\n",
    "print(ipl_df.head())  # View the first few rows\n",
    "print(ipl_df.info())  # Get information about columns and data types\n"
   ]
  },
  {
   "cell_type": "code",
   "execution_count": null,
   "metadata": {},
   "outputs": [],
   "source": [
    "# 2. Team Performance\n",
    "team_wins = ipl_df['winner'].value_counts()\n",
    "print(\"\\nTeam Wins:\\n\", team_wins)\n",
    "\n",
    "# 3. Player of the Match Analysis\n",
    "player_of_match_counts = ipl_df['player_of_match'].value_counts()\n",
    "print(\"\\nPlayer of the Match Counts: \\n\", player_of_match_counts)"
   ]
  },
  {
   "cell_type": "code",
   "execution_count": null,
   "metadata": {},
   "outputs": [],
   "source": [
    "# 4. Runs Scored Analysis\n",
    "average_runs_per_match = ipl_df['runs_scored'].mean()\n",
    "print(\"\\nAverage Runs Scored per Match:\", average_runs_per_match)"
   ]
  },
  {
   "cell_type": "code",
   "execution_count": null,
   "metadata": {},
   "outputs": [],
   "source": [
    "\n",
    "\n",
    "# 1. Bar Chart of Team Wins\n",
    "plt.figure(figsize=(10, 6))\n",
    "\n",
    "sns.countplot(x='winner', data=ipl_df)\n",
    "plt.title('Number of Wins by Team')\n",
    "\n",
    "plt.xlabel('Team')\n",
    "plt.ylabel('Number of Wins')\n",
    "\n",
    "plt.show()"
   ]
  },
  {
   "cell_type": "code",
   "execution_count": null,
   "metadata": {},
   "outputs": [],
   "source": [
    "# 2. Histogram of Runs Scored\n",
    "plt.figure(figsize=(8, 5))\n",
    "\n",
    "plt.hist(ipl_df['runs_scored'], bins=8)\n",
    "plt.title('Distribution of Runs Scored per Match')\n",
    "\n",
    "plt.xlabel('Runs Scored')\n",
    "plt.ylabel('Frequency')\n",
    "\n",
    "plt.show()"
   ]
  }
 ],
 "metadata": {
  "language_info": {
   "name": "python"
  }
 },
 "nbformat": 4,
 "nbformat_minor": 2
}
