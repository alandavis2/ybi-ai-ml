{
 "cells": [
  {
   "cell_type": "code",
   "execution_count": null,
   "metadata": {},
   "outputs": [],
   "source": [
    "import pandas as pd\n",
    "import matplotlib.pyplot as plt\n",
    "import seaborn as sns\n",
    "\n",
    "# Sample Indian Demographics Data (Replace with real data from Census of India)\n",
    "data = {\n",
    "    'state': ['Maharashtra', 'Uttar Pradesh', 'Bihar', 'West Bengal', 'Tamil Nadu', 'Madhya Pradesh', 'Rajasthan', 'Karnataka', 'Gujarat', 'Andhra Pradesh'],\n",
    "    'population': [123144223, 237882725, 124799926, 99609303, 77841267, 85034723, 81032689, 67562686, 64357546, 53903393],\n",
    "    'literacy_rate': [82.9, 73.0, 63.8, 77.1, 80.3, 78.6, 67.1, 75.6, 79.3, 67.4],\n",
    "    'rural_population_percent': [54.8, 77.7, 88.7, 68.1, 51.7, 72.4, 75.1, 61.3, 57.4, 66.6],\n",
    "}\n",
    "\n",
    "demographics_df = pd.DataFrame(data)\n",
    "\n",
    "# 1. Basic Data Exploration\n",
    "print(demographics_df.head())\n",
    "print(demographics_df.info())"
   ]
  },
  {
   "cell_type": "code",
   "execution_count": null,
   "metadata": {},
   "outputs": [],
   "source": [
    "# 2. Population Analysis\n",
    "total_population = demographics_df['population'].sum()\n",
    "print(\"\\nTotal Population of the Listed States:\", total_population)\n",
    "\n",
    "# 3. Literacy Rate Analysis\n",
    "average_literacy_rate = demographics_df['literacy_rate'].mean()\n",
    "print(\"\\nAverage Literacy Rate:\", average_literacy_rate)\n",
    "\n",
    "# 4. Correlation between Literacy Rate and Rural Population\n",
    "correlation = demographics_df['literacy_rate'].corr(demographics_df['rural_population_percent'])\n",
    "print(\"\\nCorrelation between Literacy Rate and Rural Population Percentage:\", correlation)\n",
    "\n",
    "# 1. Bar Chart of Population by State\n",
    "plt.figure(figsize=(12, 6))\n",
    "\n",
    "sns.barplot(x='state', y='population', data=demographics_df)\n",
    "plt.title('Population by State')\n",
    "\n",
    "plt.xlabel('State')\n",
    "plt.ylabel('Population')\n",
    "\n",
    "plt.xticks(rotation=45)\n",
    "plt.show()"
   ]
  },
  {
   "cell_type": "code",
   "execution_count": null,
   "metadata": {},
   "outputs": [],
   "source": [
    "# 2. Scatter Plot of Literacy Rate vs. Rural Population\n",
    "plt.figure(figsize=(8, 6))\n",
    "\n",
    "sns.scatterplot(x='literacy_rate', y='rural_population_percent', data=demographics_df)\n",
    "plt.title('Literacy Rate vs. Rural Population Percentage')\n",
    "\n",
    "plt.xlabel('Literacy Rate (%)')\n",
    "plt.ylabel('Rural Population (%)')\n",
    "\n",
    "plt.show()"
   ]
  }
 ],
 "metadata": {
  "language_info": {
   "name": "python"
  }
 },
 "nbformat": 4,
 "nbformat_minor": 2
}
